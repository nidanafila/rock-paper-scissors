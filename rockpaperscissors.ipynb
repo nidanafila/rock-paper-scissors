{
  "nbformat": 4,
  "nbformat_minor": 0,
  "metadata": {
    "colab": {
      "provenance": []
    },
    "kernelspec": {
      "name": "python3",
      "display_name": "Python 3"
    },
    "accelerator": "GPU"
  },
  "cells": [
    {
      "cell_type": "markdown",
      "source": [
        "Nama : Nida Nafila\n",
        "\n",
        "E-mail : naifanida5858@gmail.com"
      ],
      "metadata": {
        "id": "gPqoPl__YzOZ"
      }
    },
    {
      "cell_type": "code",
      "metadata": {
        "id": "PVg7GfNFeuLF"
      },
      "source": [
        "import tensorflow as tf\n",
        "from tensorflow.keras.preprocessing.image import ImageDataGenerator\n",
        "from sklearn.model_selection import train_test_split\n",
        "import zipfile\n",
        "import os\n",
        "import requests"
      ],
      "execution_count": 66,
      "outputs": []
    },
    {
      "cell_type": "code",
      "metadata": {
        "id": "ZCMwCpvIfKIT",
        "outputId": "f5eed7d3-2366-472d-dd39-b5909f810fe0",
        "colab": {
          "base_uri": "https://localhost:8080/"
        }
      },
      "source": [
        "!wget --no-check-certificate \\\n",
        "  https://dicodingacademy.blob.core.windows.net/picodiploma/ml_pemula_academy/rockpaperscissors.zip \\\n",
        "  -O /tmp/rockpaperscissors.zip"
      ],
      "execution_count": 67,
      "outputs": [
        {
          "output_type": "stream",
          "name": "stdout",
          "text": [
            "--2023-11-30 05:22:21--  https://dicodingacademy.blob.core.windows.net/picodiploma/ml_pemula_academy/rockpaperscissors.zip\n",
            "Resolving dicodingacademy.blob.core.windows.net (dicodingacademy.blob.core.windows.net)... 20.60.139.65\n",
            "Connecting to dicodingacademy.blob.core.windows.net (dicodingacademy.blob.core.windows.net)|20.60.139.65|:443... connected.\n",
            "HTTP request sent, awaiting response... 404 The specified resource does not exist.\n",
            "2023-11-30 05:22:22 ERROR 404: The specified resource does not exist..\n",
            "\n"
          ]
        }
      ]
    },
    {
      "cell_type": "code",
      "metadata": {
        "id": "V6G6a2aPfl8E"
      },
      "source": [
        "url = \"https://github.com/dicodingacademy/assets/releases/download/release/rockpaperscissors.zip\"\n",
        "response = requests.get(url, stream=True)\n",
        "\n",
        "# Menyimpan file zip\n",
        "with open(\"rockpaperscissors.zip\", \"wb\") as handle:\n",
        "    for data in response.iter_content(chunk_size=1024):\n",
        "        if data:\n",
        "            handle.write(data)\n",
        "\n",
        "# Mengekstrak file zip\n",
        "with zipfile.ZipFile(\"rockpaperscissors.zip\", \"r\") as zip_ref:\n",
        "    zip_ref.extractall(\"rockpaperscissors\")\n",
        "\n",
        "base_dir = '/content/rockpaperscissors/rockpaperscissors/rps-cv-images'"
      ],
      "execution_count": 68,
      "outputs": []
    },
    {
      "cell_type": "code",
      "source": [
        "!sudo apt install tree\n",
        "!tree -d rockpaperscissors"
      ],
      "metadata": {
        "id": "FzCY58ckZEID",
        "colab": {
          "base_uri": "https://localhost:8080/"
        },
        "outputId": "b441521f-1196-4f26-ea7e-168bd56102e7"
      },
      "execution_count": 69,
      "outputs": [
        {
          "output_type": "stream",
          "name": "stdout",
          "text": [
            "Reading package lists... Done\n",
            "Building dependency tree... Done\n",
            "Reading state information... Done\n",
            "tree is already the newest version (2.0.2-1).\n",
            "0 upgraded, 0 newly installed, 0 to remove and 15 not upgraded.\n",
            "\u001b[01;34mrockpaperscissors\u001b[0m\n",
            "├── \u001b[01;34m__MACOSX\u001b[0m\n",
            "│   └── \u001b[01;34mrockpaperscissors\u001b[0m\n",
            "│       ├── \u001b[01;34mpaper\u001b[0m\n",
            "│       ├── \u001b[01;34mrock\u001b[0m\n",
            "│       ├── \u001b[01;34mrps-cv-images\u001b[0m\n",
            "│       │   ├── \u001b[01;34mpaper\u001b[0m\n",
            "│       │   ├── \u001b[01;34mrock\u001b[0m\n",
            "│       │   └── \u001b[01;34mscissors\u001b[0m\n",
            "│       └── \u001b[01;34mscissors\u001b[0m\n",
            "├── \u001b[01;34mrockpaperscissors\u001b[0m\n",
            "│   ├── \u001b[01;34mpaper\u001b[0m\n",
            "│   ├── \u001b[01;34mrock\u001b[0m\n",
            "│   ├── \u001b[01;34mrps-cv-images\u001b[0m\n",
            "│   │   ├── \u001b[01;34mpaper\u001b[0m\n",
            "│   │   ├── \u001b[01;34mrock\u001b[0m\n",
            "│   │   └── \u001b[01;34mscissors\u001b[0m\n",
            "│   └── \u001b[01;34mscissors\u001b[0m\n",
            "└── \u001b[01;34msplit\u001b[0m\n",
            "    ├── \u001b[01;34mtrain\u001b[0m\n",
            "    │   ├── \u001b[01;34mpaper\u001b[0m\n",
            "    │   ├── \u001b[01;34mrock\u001b[0m\n",
            "    │   └── \u001b[01;34mscissors\u001b[0m\n",
            "    └── \u001b[01;34mval\u001b[0m\n",
            "        ├── \u001b[01;34mpaper\u001b[0m\n",
            "        ├── \u001b[01;34mrock\u001b[0m\n",
            "        └── \u001b[01;34mscissors\u001b[0m\n",
            "\n",
            "26 directories\n"
          ]
        }
      ]
    },
    {
      "cell_type": "code",
      "metadata": {
        "id": "nvgLbJtIf9h2"
      },
      "source": [
        "# Inisialisasi path dataset\n",
        "base_dir = \"rockpaperscissors/split\"\n",
        "train_dir = os.path.join(base_dir,'train')\n",
        "val_dir = os.path.join(base_dir,'val')"
      ],
      "execution_count": 70,
      "outputs": []
    },
    {
      "cell_type": "code",
      "metadata": {
        "id": "f2RFXzKIgGZE"
      },
      "source": [
        "# Augmentasi gambar\n",
        "train_datagen = ImageDataGenerator(\n",
        "                    rescale=1./255,\n",
        "                    rotation_range=20,\n",
        "                    horizontal_flip=True,\n",
        "                    shear_range = 0.2,\n",
        "                    fill_mode = 'nearest')\n",
        "\n",
        "test_datagen = ImageDataGenerator(\n",
        "                    rescale=1./255,\n",
        "                    rotation_range=20,\n",
        "                    horizontal_flip=True,\n",
        "                    shear_range = 0.2,\n",
        "                    fill_mode = 'nearest')"
      ],
      "execution_count": 77,
      "outputs": []
    },
    {
      "cell_type": "code",
      "metadata": {
        "id": "R5ZWbEOSi5Sc",
        "outputId": "16a6f1ea-416a-4740-bb65-4a83e57da19d",
        "colab": {
          "base_uri": "https://localhost:8080/"
        }
      },
      "source": [
        "# Mempersiapkan data generator\n",
        "train_generator = train_datagen.flow_from_directory(\n",
        "    train_dir,\n",
        "    target_size=(100,150),\n",
        "    batch_size=32,\n",
        "    class_mode='categorical')\n",
        "\n",
        "val_generator = test_datagen.flow_from_directory(\n",
        "    val_dir,\n",
        "    target_size=(100,150),\n",
        "    batch_size=32,\n",
        "    class_mode='categorical')"
      ],
      "execution_count": 88,
      "outputs": [
        {
          "output_type": "stream",
          "name": "stdout",
          "text": [
            "Found 1312 images belonging to 3 classes.\n",
            "Found 876 images belonging to 3 classes.\n"
          ]
        }
      ]
    },
    {
      "cell_type": "code",
      "metadata": {
        "id": "D1ifLOEmj0lc",
        "colab": {
          "base_uri": "https://localhost:8080/"
        },
        "outputId": "86b6f8c6-8b5c-42e0-c01b-8e7b5c9f0831"
      },
      "source": [
        "model = tf.keras.models.Sequential([\n",
        "    tf.keras.layers.Conv2D(16, (3,3), activation='relu', input_shape=(100, 150, 3)),\n",
        "    tf.keras.layers.MaxPooling2D(2, 2),\n",
        "    tf.keras.layers.Conv2D(32, (3,3), activation='relu'),\n",
        "    tf.keras.layers.MaxPooling2D(2,2),\n",
        "    tf.keras.layers.Conv2D(64, (3,3), activation='relu'),\n",
        "    tf.keras.layers.MaxPooling2D(2,2),\n",
        "    tf.keras.layers.Flatten(),\n",
        "    tf.keras.layers.Dense(512, activation='relu'),\n",
        "    tf.keras.layers.Dense(3, activation='softmax')\n",
        "])\n",
        "\n",
        "model.summary()"
      ],
      "execution_count": 79,
      "outputs": [
        {
          "output_type": "stream",
          "name": "stdout",
          "text": [
            "Model: \"sequential_4\"\n",
            "_________________________________________________________________\n",
            " Layer (type)                Output Shape              Param #   \n",
            "=================================================================\n",
            " conv2d_12 (Conv2D)          (None, 98, 148, 16)       448       \n",
            "                                                                 \n",
            " max_pooling2d_12 (MaxPooli  (None, 49, 74, 16)        0         \n",
            " ng2D)                                                           \n",
            "                                                                 \n",
            " conv2d_13 (Conv2D)          (None, 47, 72, 32)        4640      \n",
            "                                                                 \n",
            " max_pooling2d_13 (MaxPooli  (None, 23, 36, 32)        0         \n",
            " ng2D)                                                           \n",
            "                                                                 \n",
            " conv2d_14 (Conv2D)          (None, 21, 34, 64)        18496     \n",
            "                                                                 \n",
            " max_pooling2d_14 (MaxPooli  (None, 10, 17, 64)        0         \n",
            " ng2D)                                                           \n",
            "                                                                 \n",
            " flatten_4 (Flatten)         (None, 10880)             0         \n",
            "                                                                 \n",
            " dense_8 (Dense)             (None, 512)               5571072   \n",
            "                                                                 \n",
            " dense_9 (Dense)             (None, 3)                 1539      \n",
            "                                                                 \n",
            "=================================================================\n",
            "Total params: 5596195 (21.35 MB)\n",
            "Trainable params: 5596195 (21.35 MB)\n",
            "Non-trainable params: 0 (0.00 Byte)\n",
            "_________________________________________________________________\n"
          ]
        }
      ]
    },
    {
      "cell_type": "code",
      "metadata": {
        "id": "j8I3woeokCBD"
      },
      "source": [
        "# Mengcompile model\n",
        "model.compile(optimizer='adam', loss='categorical_crossentropy', metrics=['accuracy'])"
      ],
      "execution_count": 83,
      "outputs": []
    },
    {
      "cell_type": "code",
      "source": [
        "class CallBack(tf.keras.callbacks.Callback):\n",
        "    def on_epoch_end(self, epoch, logs={}):\n",
        "      target = .96\n",
        "      if(logs.get('accuracy') > target and logs.get('val_accuracy') > target):\n",
        "        print(\"Akurasi terlampaui!!\")\n",
        "\n",
        "my_callback=CallBack()"
      ],
      "metadata": {
        "id": "ScsZNCRhZO3R"
      },
      "execution_count": 84,
      "outputs": []
    },
    {
      "cell_type": "code",
      "metadata": {
        "id": "IJ0Lm4KfkGSs",
        "outputId": "a4f43f49-4442-4047-eeab-2965a4701f0f",
        "colab": {
          "base_uri": "https://localhost:8080/"
        }
      },
      "source": [
        "history = model.fit(\n",
        "      train_generator,\n",
        "      steps_per_epoch=32,\n",
        "      epochs=15,\n",
        "      validation_data=val_generator,\n",
        "      validation_steps=8,\n",
        "      verbose=2,\n",
        "      callbacks=[my_callback])"
      ],
      "execution_count": 89,
      "outputs": [
        {
          "output_type": "stream",
          "name": "stdout",
          "text": [
            "Epoch 1/15\n",
            "32/32 - 10s - loss: 0.9558 - accuracy: 0.5830 - val_loss: 0.7727 - val_accuracy: 0.6562 - 10s/epoch - 310ms/step\n",
            "Epoch 2/15\n",
            "32/32 - 9s - loss: 0.4670 - accuracy: 0.8369 - val_loss: 0.4510 - val_accuracy: 0.8672 - 9s/epoch - 280ms/step\n",
            "Epoch 3/15\n",
            "32/32 - 9s - loss: 0.2552 - accuracy: 0.9199 - val_loss: 0.2851 - val_accuracy: 0.8984 - 9s/epoch - 290ms/step\n",
            "Epoch 4/15\n",
            "32/32 - 8s - loss: 0.2208 - accuracy: 0.9189 - val_loss: 0.3679 - val_accuracy: 0.8828 - 8s/epoch - 265ms/step\n",
            "Epoch 5/15\n",
            "32/32 - 8s - loss: 0.1800 - accuracy: 0.9424 - val_loss: 0.1477 - val_accuracy: 0.9570 - 8s/epoch - 257ms/step\n",
            "Epoch 6/15\n",
            "32/32 - 9s - loss: 0.1499 - accuracy: 0.9463 - val_loss: 0.0954 - val_accuracy: 0.9688 - 9s/epoch - 290ms/step\n",
            "Epoch 7/15\n",
            "32/32 - 7s - loss: 0.1157 - accuracy: 0.9561 - val_loss: 0.1536 - val_accuracy: 0.9531 - 7s/epoch - 233ms/step\n",
            "Epoch 8/15\n",
            "32/32 - 9s - loss: 0.1461 - accuracy: 0.9492 - val_loss: 0.1185 - val_accuracy: 0.9727 - 9s/epoch - 267ms/step\n",
            "Epoch 9/15\n",
            "32/32 - 10s - loss: 0.0994 - accuracy: 0.9658 - val_loss: 0.1580 - val_accuracy: 0.9570 - 10s/epoch - 307ms/step\n",
            "Epoch 10/15\n",
            "Akurasi terlampaui!!\n",
            "32/32 - 8s - loss: 0.0820 - accuracy: 0.9785 - val_loss: 0.1286 - val_accuracy: 0.9727 - 8s/epoch - 253ms/step\n",
            "Epoch 11/15\n",
            "Akurasi terlampaui!!\n",
            "32/32 - 8s - loss: 0.0816 - accuracy: 0.9697 - val_loss: 0.0843 - val_accuracy: 0.9766 - 8s/epoch - 265ms/step\n",
            "Epoch 12/15\n",
            "Akurasi terlampaui!!\n",
            "32/32 - 9s - loss: 0.0676 - accuracy: 0.9795 - val_loss: 0.1248 - val_accuracy: 0.9609 - 9s/epoch - 288ms/step\n",
            "Epoch 13/15\n",
            "Akurasi terlampaui!!\n",
            "32/32 - 7s - loss: 0.0599 - accuracy: 0.9873 - val_loss: 0.1007 - val_accuracy: 0.9805 - 7s/epoch - 230ms/step\n",
            "Epoch 14/15\n",
            "Akurasi terlampaui!!\n",
            "32/32 - 7s - loss: 0.0573 - accuracy: 0.9805 - val_loss: 0.0694 - val_accuracy: 0.9688 - 7s/epoch - 232ms/step\n",
            "Epoch 15/15\n",
            "32/32 - 9s - loss: 0.0705 - accuracy: 0.9775 - val_loss: 0.1281 - val_accuracy: 0.9453 - 9s/epoch - 291ms/step\n"
          ]
        }
      ]
    },
    {
      "cell_type": "code",
      "source": [
        "import matplotlib.pyplot as plt\n",
        "\n",
        "accuracy = history.history['accuracy']\n",
        "validation_accuracy = history.history['val_accuracy']\n",
        "\n",
        "epochs = range(len(accuracy))\n",
        "\n",
        "plt.plot(epochs, accuracy, 'b', label='Pelatihan')\n",
        "plt.plot(epochs, validation_accuracy, 'g', label='Validasi')\n",
        "plt.title('Akurasi')\n",
        "plt.legend(loc=0)\n",
        "plt.figure()\n",
        "plt.show()"
      ],
      "metadata": {
        "colab": {
          "base_uri": "https://localhost:8080/",
          "height": 469
        },
        "id": "G6m22G_7ZrAH",
        "outputId": "869d41b5-ff8d-47e8-e1de-cc792e0fc57d"
      },
      "execution_count": 90,
      "outputs": [
        {
          "output_type": "display_data",
          "data": {
            "text/plain": [
              "<Figure size 640x480 with 1 Axes>"
            ],
            "image/png": "[encoded data removed]"
          },
          "metadata": {}
        },
        {
          "output_type": "display_data",
          "data": {
            "text/plain": [
              "<Figure size 640x480 with 0 Axes>"
            ]
          },
          "metadata": {}
        }
      ]
    },
    {
      "cell_type": "code",
      "source": [
        "loss = history.history['loss']\n",
        "validation_loss = history.history['val_loss']\n",
        "\n",
        "epochs = range(len(loss))\n",
        "\n",
        "plt.plot(epochs, loss, 'b', label='Pelatihan')\n",
        "plt.plot(epochs, validation_loss, 'g', label='Validasi')\n",
        "plt.title('Loss')\n",
        "plt.legend(loc=0)\n",
        "plt.figure()\n",
        "\n",
        "plt.show()"
      ],
      "metadata": {
        "colab": {
          "base_uri": "https://localhost:8080/",
          "height": 469
        },
        "id": "wll79OBLZvJn",
        "outputId": "f14fa319-77de-46e0-9e91-d412f1be8c40"
      },
      "execution_count": 91,
      "outputs": [
        {
          "output_type": "display_data",
          "data": {
            "text/plain": [
              "<Figure size 640x480 with 1 Axes>"
            ],
            "image/png": "[encoded data removed]"
          },
          "metadata": {}
        },
        {
          "output_type": "display_data",
          "data": {
            "text/plain": [
              "<Figure size 640x480 with 0 Axes>"
            ]
          },
          "metadata": {}
        }
      ]
    },
    {
      "cell_type": "code",
      "source": [
        "import numpy as np\n",
        "from google.colab import files\n",
        "from keras.preprocessing import image\n",
        "import matplotlib.pyplot as plt\n",
        "import matplotlib.image as mpimg\n",
        "import matplotlib.pyplot as plt\n",
        "import matplotlib.image as mpimg\n",
        "%matplotlib inline"
      ],
      "metadata": {
        "id": "b07ca8WWdjq9"
      },
      "execution_count": 92,
      "outputs": []
    },
    {
      "cell_type": "code",
      "metadata": {
        "id": "wnI_S3oY1eLe",
        "outputId": "a2f409a2-6a64-46d7-c701-f8a77d6c02a6",
        "colab": {
          "base_uri": "https://localhost:8080/",
          "height": 503
        }
      },
      "source": [
        "uploaded = files.upload()\n",
        "\n",
        "for fn in uploaded.keys():\n",
        "\n",
        "  # predicting images\n",
        "  path = fn\n",
        "  img = image.load_img(path, target_size=(100,150))\n",
        "  imgplot = plt.imshow(img)\n",
        "  x = image.img_to_array(img)\n",
        "  x = np.expand_dims(x, axis=0)\n",
        "\n",
        "  images = np.vstack([x])\n",
        "  classes = model.predict(images, batch_size=10)\n",
        "\n",
        "  print(fn)\n",
        "  if classes[0][0]==1:\n",
        "    print('paper')\n",
        "  elif classes[0][1]==1:\n",
        "    print('rock')\n",
        "  elif classes[0][2]==1:\n",
        "    print('scissors')\n",
        "  else:\n",
        "    print('unknown')"
      ],
      "execution_count": 93,
      "outputs": [
        {
          "output_type": "display_data",
          "data": {
            "text/plain": [
              "<IPython.core.display.HTML object>"
            ],
            "text/html": [
              "\n",
              "     <input type=\"file\" id=\"files-a44bac61-67a5-4a36-b846-707855b3b2cc\" name=\"files[]\" multiple disabled\n",
              "        style=\"border:none\" />\n",
              "     <output id=\"result-a44bac61-67a5-4a36-b846-707855b3b2cc\">\n",
              "      Upload widget is only available when the cell has been executed in the\n",
              "      current browser session. Please rerun this cell to enable.\n",
              "      </output>\n",
              "      <script>// Copyright 2017 Google LLC\n",
              "//\n",
              "// Licensed under the Apache License, Version 2.0 (the \"License\");\n",
              "// you may not use this file except in compliance with the License.\n",
              "// You may obtain a copy of the License at\n",
              "//\n",
              "//      http://www.apache.org/licenses/LICENSE-2.0\n",
              "//\n",
              "// Unless required by applicable law or agreed to in writing, software\n",
              "// distributed under the License is distributed on an \"AS IS\" BASIS,\n",
              "// WITHOUT WARRANTIES OR CONDITIONS OF ANY KIND, either express or implied.\n",
              "// See the License for the specific language governing permissions and\n",
              "// limitations under the License.\n",
              "\n",
              "/**\n",
              " * @fileoverview Helpers for google.colab Python module.\n",
              " */\n",
              "(function(scope) {\n",
              "function span(text, styleAttributes = {}) {\n",
              "  const element = document.createElement('span');\n",
              "  element.textContent = text;\n",
              "  for (const key of Object.keys(styleAttributes)) {\n",
              "    element.style[key] = styleAttributes[key];\n",
              "  }\n",
              "  return element;\n",
              "}\n",
              "\n",
              "// Max number of bytes which will be uploaded at a time.\n",
              "const MAX_PAYLOAD_SIZE = 100 * 1024;\n",
              "\n",
              "function _uploadFiles(inputId, outputId) {\n",
              "  const steps = uploadFilesStep(inputId, outputId);\n",
              "  const outputElement = document.getElementById(outputId);\n",
              "  // Cache steps on the outputElement to make it available for the next call\n",
              "  // to uploadFilesContinue from Python.\n",
              "  outputElement.steps = steps;\n",
              "\n",
              "  return _uploadFilesContinue(outputId);\n",
              "}\n",
              "\n",
              "// This is roughly an async generator (not supported in the browser yet),\n",
              "// where there are multiple asynchronous steps and the Python side is going\n",
              "// to poll for completion of each step.\n",
              "// This uses a Promise to block the python side on completion of each step,\n",
              "// then passes the result of the previous step as the input to the next step.\n",
              "function _uploadFilesContinue(outputId) {\n",
              "  const outputElement = document.getElementById(outputId);\n",
              "  const steps = outputElement.steps;\n",
              "\n",
              "  const next = steps.next(outputElement.lastPromiseValue);\n",
              "  return Promise.resolve(next.value.promise).then((value) => {\n",
              "    // Cache the last promise value to make it available to the next\n",
              "    // step of the generator.\n",
              "    outputElement.lastPromiseValue = value;\n",
              "    return next.value.response;\n",
              "  });\n",
              "}\n",
              "\n",
              "/**\n",
              " * Generator function which is called between each async step of the upload\n",
              " * process.\n",
              " * @param {string} inputId Element ID of the input file picker element.\n",
              " * @param {string} outputId Element ID of the output display.\n",
              " * @return {!Iterable<!Object>} Iterable of next steps.\n",
              " */\n",
              "function* uploadFilesStep(inputId, outputId) {\n",
              "  const inputElement = document.getElementById(inputId);\n",
              "  inputElement.disabled = false;\n",
              "\n",
              "  const outputElement = document.getElementById(outputId);\n",
              "  outputElement.innerHTML = '';\n",
              "\n",
              "  const pickedPromise = new Promise((resolve) => {\n",
              "    inputElement.addEventListener('change', (e) => {\n",
              "      resolve(e.target.files);\n",
              "    });\n",
              "  });\n",
              "\n",
              "  const cancel = document.createElement('button');\n",
              "  inputElement.parentElement.appendChild(cancel);\n",
              "  cancel.textContent = 'Cancel upload';\n",
              "  const cancelPromise = new Promise((resolve) => {\n",
              "    cancel.onclick = () => {\n",
              "      resolve(null);\n",
              "    };\n",
              "  });\n",
              "\n",
              "  // Wait for the user to pick the files.\n",
              "  const files = yield {\n",
              "    promise: Promise.race([pickedPromise, cancelPromise]),\n",
              "    response: {\n",
              "      action: 'starting',\n",
              "    }\n",
              "  };\n",
              "\n",
              "  cancel.remove();\n",
              "\n",
              "  // Disable the input element since further picks are not allowed.\n",
              "  inputElement.disabled = true;\n",
              "\n",
              "  if (!files) {\n",
              "    return {\n",
              "      response: {\n",
              "        action: 'complete',\n",
              "      }\n",
              "    };\n",
              "  }\n",
              "\n",
              "  for (const file of files) {\n",
              "    const li = document.createElement('li');\n",
              "    li.append(span(file.name, {fontWeight: 'bold'}));\n",
              "    li.append(span(\n",
              "        `(${file.type || 'n/a'}) - ${file.size} bytes, ` +\n",
              "        `last modified: ${\n",
              "            file.lastModifiedDate ? file.lastModifiedDate.toLocaleDateString() :\n",
              "                                    'n/a'} - `));\n",
              "    const percent = span('0% done');\n",
              "    li.appendChild(percent);\n",
              "\n",
              "    outputElement.appendChild(li);\n",
              "\n",
              "    const fileDataPromise = new Promise((resolve) => {\n",
              "      const reader = new FileReader();\n",
              "      reader.onload = (e) => {\n",
              "        resolve(e.target.result);\n",
              "      };\n",
              "      reader.readAsArrayBuffer(file);\n",
              "    });\n",
              "    // Wait for the data to be ready.\n",
              "    let fileData = yield {\n",
              "      promise: fileDataPromise,\n",
              "      response: {\n",
              "        action: 'continue',\n",
              "      }\n",
              "    };\n",
              "\n",
              "    // Use a chunked sending to avoid message size limits. See b/62115660.\n",
              "    let position = 0;\n",
              "    do {\n",
              "      const length = Math.min(fileData.byteLength - position, MAX_PAYLOAD_SIZE);\n",
              "      const chunk = new Uint8Array(fileData, position, length);\n",
              "      position += length;\n",
              "\n",
              "      const base64 = btoa(String.fromCharCode.apply(null, chunk));\n",
              "      yield {\n",
              "        response: {\n",
              "          action: 'append',\n",
              "          file: file.name,\n",
              "          data: base64,\n",
              "        },\n",
              "      };\n",
              "\n",
              "      let percentDone = fileData.byteLength === 0 ?\n",
              "          100 :\n",
              "          Math.round((position / fileData.byteLength) * 100);\n",
              "      percent.textContent = `${percentDone}% done`;\n",
              "\n",
              "    } while (position < fileData.byteLength);\n",
              "  }\n",
              "\n",
              "  // All done.\n",
              "  yield {\n",
              "    response: {\n",
              "      action: 'complete',\n",
              "    }\n",
              "  };\n",
              "}\n",
              "\n",
              "scope.google = scope.google || {};\n",
              "scope.google.colab = scope.google.colab || {};\n",
              "scope.google.colab._files = {\n",
              "  _uploadFiles,\n",
              "  _uploadFilesContinue,\n",
              "};\n",
              "})(self);\n",
              "</script> "
            ]
          },
          "metadata": {}
        },
        {
          "output_type": "stream",
          "name": "stdout",
          "text": [
            "Saving sccr.jpg to sccr (1).jpg\n",
            "1/1 [==============================] - 0s 157ms/step\n",
            "sccr (1).jpg\n",
            "scissors\n"
          ]
        },
        {
          "output_type": "display_data",
          "data": {
            "text/plain": [
              "<Figure size 640x480 with 1 Axes>"
            ],
            "image/png": "[encoded data removed]"
          },
          "metadata": {}
        }
      ]
    },
    {
      "cell_type": "code",
      "source": [
        "# Menyimpan model\n",
        "model.save(\"rock_paper_scissors_model.h5\")\n"
      ],
      "metadata": {
        "id": "F7jVWgk0ZdhT"
      },
      "execution_count": null,
      "outputs": []
    }
  ]
}